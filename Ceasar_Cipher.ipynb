{
  "nbformat": 4,
  "nbformat_minor": 0,
  "metadata": {
    "colab": {
      "provenance": [],
      "authorship_tag": "ABX9TyP7QXZYq6Cyh4Yaw2Rt2eh+",
      "include_colab_link": true
    },
    "kernelspec": {
      "name": "python3",
      "display_name": "Python 3"
    },
    "language_info": {
      "name": "python"
    }
  },
  "cells": [
    {
      "cell_type": "markdown",
      "metadata": {
        "id": "view-in-github",
        "colab_type": "text"
      },
      "source": [
        "<a href=\"https://colab.research.google.com/github/KarHin22/Practical-Discrete-Mathematics/blob/master/Ceasar_Cipher.ipynb\" target=\"_parent\"><img src=\"https://colab.research.google.com/assets/colab-badge.svg\" alt=\"Open In Colab\"/></a>"
      ]
    },
    {
      "cell_type": "markdown",
      "source": [
        "##**Given the following original and decrypted words, write a Python function to determine the possible cipher keys used in a Ceasar Cipher. The function should ignore any non-alphabatic characters in the words.**\n",
        "\n",
        "- Original Word: \"S3CURE!\"\n",
        "- Decrypted Word: \"V3FZWH!\"\n",
        "\n",
        "**What are the possible keys, and how would you implement this in Python**"
      ],
      "metadata": {
        "id": "0222txG56c3O"
      }
    },
    {
      "cell_type": "code",
      "execution_count": 5,
      "metadata": {
        "colab": {
          "base_uri": "https://localhost:8080/"
        },
        "id": "rqD_JRYl5re1",
        "outputId": "25c2ce27-a225-40ae-bcd2-8ee4a1af6842"
      },
      "outputs": [
        {
          "output_type": "stream",
          "name": "stdout",
          "text": [
            "0 S3CURE!\n",
            "1 T3DVSF!\n",
            "2 U3EWTG!\n",
            "3 V3FXUH!\n",
            "4 W3GYVI!\n",
            "5 X3HZWJ!\n",
            "6 Y3IAXK!\n",
            "7 Z3JBYL!\n",
            "8 A3KCZM!\n",
            "9 B3LDAN!\n",
            "10 C3MEBO!\n",
            "11 D3NFCP!\n",
            "12 E3OGDQ!\n",
            "13 F3PHER!\n",
            "14 G3QIFS!\n",
            "15 H3RJGT!\n",
            "16 I3SKHU!\n",
            "17 J3TLIV!\n",
            "18 K3UMJW!\n",
            "19 L3VNKX!\n",
            "20 M3WOLY!\n",
            "21 N3XPMZ!\n",
            "22 O3YQNA!\n",
            "23 P3ZROB!\n",
            "24 Q3ASPC!\n",
            "25 R3BTQD!\n"
          ]
        }
      ],
      "source": [
        "codeMessage = 'S3CURE!'\n",
        "\n",
        "for counter in range(26):\n",
        "  guessedMessage = ''\n",
        "\n",
        "  for X in codeMessage:\n",
        "    if 'A' <= X <= 'Z':\n",
        "      if ord(X)+counter <= 90:\n",
        "        X = chr(ord(X)+counter)\n",
        "      else:\n",
        "        X = chr(ord(X)+counter-26)\n",
        "    elif '0' <= X <= '9':\n",
        "      pass\n",
        "    guessedMessage = guessedMessage + X\n",
        "\n",
        "  print(counter, guessedMessage)"
      ]
    },
    {
      "cell_type": "markdown",
      "source": [
        "#**The possible keys that match the decrypted word are 3 and 5.**"
      ],
      "metadata": {
        "id": "KGArVlRoC6K4"
      }
    },
    {
      "cell_type": "markdown",
      "source": [
        "By Gemini:"
      ],
      "metadata": {
        "id": "YsWu5ko2C28E"
      }
    },
    {
      "cell_type": "code",
      "source": [
        "def find_caesar_key(original_word, decrypted_word):\n",
        "    \"\"\"\n",
        "    Finds the possible Caesar cipher keys given the original and decrypted words.\n",
        "\n",
        "    Args:\n",
        "        original_word: The original word.\n",
        "        decrypted_word: The decrypted word.\n",
        "\n",
        "    Returns:\n",
        "        A list of possible keys.\n",
        "    \"\"\"\n",
        "    possible_keys = []\n",
        "    for key in range(26):\n",
        "        shifted_word = \"\"\n",
        "        for char in original_word:\n",
        "            if 'a' <= char <= 'z':\n",
        "                shifted_char = chr(((ord(char) - ord('a') + key) % 26) + ord('a'))\n",
        "            elif 'A' <= char <= 'Z':\n",
        "                shifted_char = chr(((ord(char) - ord('A') + key) % 26) + ord('A'))\n",
        "            else:\n",
        "                shifted_char = char\n",
        "            shifted_word += shifted_char\n",
        "\n",
        "        if shifted_word == decrypted_word:\n",
        "            possible_keys.append(key)\n",
        "\n",
        "    return possible_keys\n",
        "\n",
        "# Example usage:\n",
        "original_word = \"S3CURE!\"\n",
        "decrypted_word = \"V3FZWH!\"\n",
        "keys = find_caesar_key(original_word, decrypted_word)\n",
        "print(\"Possible keys:\", keys)  # Output: Possible keys: [3]"
      ],
      "metadata": {
        "colab": {
          "base_uri": "https://localhost:8080/"
        },
        "id": "MrXsg_xxC1g8",
        "outputId": "a9a2a821-76ee-4429-bef4-9b386cb22f09"
      },
      "execution_count": 7,
      "outputs": [
        {
          "output_type": "stream",
          "name": "stdout",
          "text": [
            "Possible keys: []\n"
          ]
        }
      ]
    }
  ]
}