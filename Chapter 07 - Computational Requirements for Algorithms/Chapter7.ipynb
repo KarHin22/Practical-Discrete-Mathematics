{
  "cells": [
    {
      "cell_type": "markdown",
      "metadata": {
        "id": "-cwrC3Km7rq-"
      },
      "source": [
        "# Chapter 7 - Computational Requirements for Algorithms\n",
        "\n",
        "This notebook contains code accompanying Chapter 7 Computational Requirements for Algorithms in *Practical Discrete Mathematics* by Ryan T. White and Archana Tikayat Ray.\n",
        "\n",
        "## Computational complexity of algorithms\n",
        "\n",
        "### Example: A simple algorithm"
      ]
    },
    {
      "cell_type": "code",
      "execution_count": 7,
      "metadata": {
        "id": "4DzAAf2A7rrA",
        "outputId": "3d4d084b-5d2b-44cf-ccb2-7fe686a2a90a",
        "colab": {
          "base_uri": "https://localhost:8080/"
        }
      },
      "outputs": [
        {
          "output_type": "stream",
          "name": "stdout",
          "text": [
            "Please enter a fruit name: Hot Food\n",
            "The updated list is: ['Jackfruit', 'Honeydew', 'Grapes', 'Hot Food']\n",
            "Please enter the name of the fruit you want to delete: Grapes\n",
            "The updated list is: ['Jackfruit', 'Honeydew', 'Hot Food']\n"
          ]
        }
      ],
      "source": [
        "#Type of algorithm - inserting new element to pre-existing list\n",
        "fruit_name = [\"Jackfruit\", \"Honeydew\", \"Grapes\"]\n",
        "user_input1 = input(\"Please enter a fruit name: \")\n",
        "fruit_name.append(user_input1)\n",
        "print('The updated list is: ' + str(fruit_name))\n",
        "\n",
        "#Type of algorithm - deleting element from list\n",
        "user_input2 = input(\"Please enter the name of the fruit you want to delete: \")\n",
        "fruit_name.remove(user_input2)\n",
        "print('The updated list is: ' + str(fruit_name))"
      ]
    },
    {
      "source": [
        "#Type of algorithm - inserting new element to pre-existing list\n",
        "fruit_name = [\"Jackfruit\", \"Honeydew\", \"Grapes\"]\n",
        "user_input1 = input(\"Please enter a fruit name: \")\n",
        "fruit_name.append(user_input1)\n",
        "print('The updated list is: ' + str(fruit_name))\n",
        "\n",
        "#Type of algorithm - deleting element from list\n",
        "user_input2 = input(\"Please enter the name of the fruit you want to delete: \")\n",
        "# Check if the fruit to be removed is in the list\n",
        "if user_input2 in fruit_name:\n",
        "    fruit_name.remove(user_input2)\n",
        "    print('The updated list is: ' + str(fruit_name))\n",
        "else:\n",
        "    print('No Fruit Name.')\n",
        "    print(f\"{user_input2} is not in the list. The list remains unchanged: {fruit_name}\")"
      ],
      "cell_type": "code",
      "metadata": {
        "id": "hyyCnEzk89P3",
        "outputId": "f17a2809-93e3-486e-a037-0a007ac13753",
        "colab": {
          "base_uri": "https://localhost:8080/"
        }
      },
      "execution_count": 6,
      "outputs": [
        {
          "output_type": "stream",
          "name": "stdout",
          "text": [
            "Please enter a fruit name: Hot Food\n",
            "The updated list is: ['Jackfruit', 'Honeydew', 'Grapes', 'Hot Food']\n",
            "Please enter the name of the fruit you want to delete: Huh\n",
            "No Fruit Name.\n",
            "Huh is not in the list. The list remains unchanged: ['Jackfruit', 'Honeydew', 'Grapes', 'Hot Food']\n"
          ]
        }
      ]
    },
    {
      "cell_type": "markdown",
      "metadata": {
        "id": "HC5WfGCq7rrC"
      },
      "source": [
        "### Example: Execution Time"
      ]
    },
    {
      "cell_type": "code",
      "execution_count": 10,
      "metadata": {
        "id": "buEEwbso7rrC",
        "outputId": "2e02368a-7411-430c-cb5c-508016d83dc9",
        "colab": {
          "base_uri": "https://localhost:8080/"
        }
      },
      "outputs": [
        {
          "output_type": "stream",
          "name": "stdout",
          "text": [
            "Please input a number of your choice: 1\n",
            "Yes No No No No No No No \n",
            "The time elapsed for this computation is: 20.7965992500001seconds\n"
          ]
        }
      ],
      "source": [
        "# a is a list containing some numbers\n",
        "# We will compare the number input by user with the numbers in this list\n",
        "import timeit\n",
        "tic=timeit.default_timer()\n",
        "\n",
        "a=[1,2,3,4,5,6,7,8]\n",
        "\n",
        "INPUT = input(\"Please input a number of your choice: \")\n",
        "number = int(INPUT)\n",
        "\n",
        "for i in range(len(a)):\n",
        "    if a[i]== number:\n",
        "        print(\"Yes\", end=' ')\n",
        "    else:\n",
        "        print(\"No\", end=' ')\n",
        "\n",
        "print()\n",
        "\n",
        "toc=timeit.default_timer()\n",
        "time_elapsed = toc - tic\n",
        "\n",
        "print(\"The time elapsed for this computation is: \" + str(time_elapsed) + \"seconds\")"
      ]
    },
    {
      "cell_type": "markdown",
      "metadata": {
        "id": "IeLWF5Pc7rrD"
      },
      "source": [
        "## Understanding Big-O Notation\n",
        "\n",
        "### Constant complexity O(constant)"
      ]
    },
    {
      "cell_type": "code",
      "execution_count": null,
      "metadata": {
        "id": "husDsjTJ7rrD",
        "outputId": "6841040c-895f-4cbf-abd5-e3ac6a2d079e"
      },
      "outputs": [
        {
          "name": "stdout",
          "output_type": "stream",
          "text": [
            "The end result after running the algorithm is:8\n"
          ]
        }
      ],
      "source": [
        "#Constant complexity function\n",
        "def constant_complexity(list):\n",
        "    output = list[1] * list[1] * list[1]\n",
        "    print(\"The end result after running the algorithm is:\" + str(output))\n",
        "\n",
        "constant_complexity([1,2,3,4,5,6,7])"
      ]
    },
    {
      "cell_type": "markdown",
      "metadata": {
        "id": "4U_5kKDt7rrD"
      },
      "source": [
        "### Linear complexity $O(n)$"
      ]
    },
    {
      "cell_type": "code",
      "execution_count": null,
      "metadata": {
        "id": "CcOHiK8M7rrD",
        "outputId": "b0a9b9ac-7116-44f3-8d64-51daadca52a8"
      },
      "outputs": [
        {
          "name": "stdout",
          "output_type": "stream",
          "text": [
            "Iteration number 1\n",
            "Iteration number 2\n",
            "Iteration number 3\n",
            "Iteration number 4\n",
            "Iteration number 5\n",
            "Iteration number 6\n",
            "Iteration number 7\n"
          ]
        }
      ],
      "source": [
        "# Linear complexity\n",
        "def linear_complexity(list):\n",
        "    for i in list:\n",
        "        print(\"Iteration number \" + str(i))\n",
        "\n",
        "linear_complexity([1,2,3,4,5,6,7])"
      ]
    },
    {
      "cell_type": "markdown",
      "metadata": {
        "id": "i60nKzpH7rrD"
      },
      "source": [
        "### Quadratic complexity $O(n^2)$"
      ]
    },
    {
      "cell_type": "code",
      "execution_count": null,
      "metadata": {
        "id": "M6oMZPxN7rrE",
        "outputId": "20197c90-6f16-4b6d-846c-b1144ff9aeb2"
      },
      "outputs": [
        {
          "name": "stdout",
          "output_type": "stream",
          "text": [
            "1\t|First for loop iteration: 1 \t| Second for loop iteration:1\n",
            "2\t|First for loop iteration: 1 \t| Second for loop iteration:2\n",
            "3\t|First for loop iteration: 1 \t| Second for loop iteration:3\n",
            "4\t|First for loop iteration: 1 \t| Second for loop iteration:4\n",
            "5\t|First for loop iteration: 2 \t| Second for loop iteration:1\n",
            "6\t|First for loop iteration: 2 \t| Second for loop iteration:2\n",
            "7\t|First for loop iteration: 2 \t| Second for loop iteration:3\n",
            "8\t|First for loop iteration: 2 \t| Second for loop iteration:4\n",
            "9\t|First for loop iteration: 3 \t| Second for loop iteration:1\n",
            "10\t|First for loop iteration: 3 \t| Second for loop iteration:2\n",
            "11\t|First for loop iteration: 3 \t| Second for loop iteration:3\n",
            "12\t|First for loop iteration: 3 \t| Second for loop iteration:4\n",
            "13\t|First for loop iteration: 4 \t| Second for loop iteration:1\n",
            "14\t|First for loop iteration: 4 \t| Second for loop iteration:2\n",
            "15\t|First for loop iteration: 4 \t| Second for loop iteration:3\n",
            "16\t|First for loop iteration: 4 \t| Second for loop iteration:4\n"
          ]
        }
      ],
      "source": [
        "#Quadratic complexity\n",
        "def quadratic_complexity(list):\n",
        "    count = 0\n",
        "    for i in list:\n",
        "        for j in list:\n",
        "            count += 1\n",
        "            print(str(count) + \"\\t|First for loop iteration: \" + str(i), '\\t|', \"Second for loop iteration:\" + str(j))\n",
        "\n",
        "quadratic_complexity([1,2,3,4])"
      ]
    },
    {
      "cell_type": "markdown",
      "metadata": {
        "id": "doAdSytD7rrE"
      },
      "source": [
        "### Complexity of complex functions"
      ]
    },
    {
      "cell_type": "code",
      "execution_count": null,
      "metadata": {
        "id": "FlmZuA3N7rrE",
        "outputId": "eb57b54a-6ee6-49a2-b9cc-0888861f4fa3"
      },
      "outputs": [
        {
          "name": "stdout",
          "output_type": "stream",
          "text": [
            "Step: 1 \t Hello World!\n",
            "Step: 2 \t Hello World!\n",
            "Step: 3 \t Hello World!\n",
            "Step: 4 \t Hello World!\n",
            "Step: 5 \t Hello World!\n",
            "Step: 6 \t Hello World!\n",
            "Step: 7 \t 1\n",
            "Step: 8 \t 2\n",
            "Step: 9 \t 3\n",
            "Step: 10 \t 4\n",
            "Step: 11 \t 1\n",
            "Step: 12 \t 2\n",
            "Step: 13 \t 3\n",
            "Step: 14 \t 4\n"
          ]
        }
      ],
      "source": [
        "#Complex function complexity\n",
        "def complex_func (list):\n",
        "    count = 0\n",
        "    for i in range(6):\n",
        "        count += 1\n",
        "        print(\"Step: \" + str(count) + \" \\t Hello World!\")\n",
        "\n",
        "    for j in list:\n",
        "        count += 1\n",
        "        print(\"Step: \" + str(count) + \" \\t \" + str(j))\n",
        "\n",
        "    for k in list:\n",
        "        count += 1\n",
        "        print(\"Step: \" + str(count) + \" \\t \" + str(k))\n",
        "\n",
        "complex_func([1,2,3,4])"
      ]
    },
    {
      "cell_type": "markdown",
      "metadata": {
        "id": "6IKoVynz7rrE"
      },
      "source": [
        "## Complexity of algorithms with fundamental control structures\n",
        "\n",
        "### `if`-`elif`-`else`"
      ]
    },
    {
      "cell_type": "code",
      "execution_count": null,
      "metadata": {
        "id": "NxJZhsus7rrE",
        "outputId": "e33e7191-34c2-4486-b2ee-82c040544ab9"
      },
      "outputs": [
        {
          "name": "stdout",
          "output_type": "stream",
          "text": [
            "b is less than a\n"
          ]
        }
      ],
      "source": [
        "#Complexity of if-elif-else statements\n",
        "a = 10\n",
        "b = 5\n",
        "if b > a:\n",
        "    print(\"b is greater than a\")\n",
        "\n",
        "elif b < a:\n",
        "    print(\"b is less than a\")\n",
        "\n",
        "else:\n",
        "    print(\"a and b are equal\")"
      ]
    },
    {
      "cell_type": "markdown",
      "metadata": {
        "id": "mAdiYZiM7rrF"
      },
      "source": [
        "### `for` Loops"
      ]
    },
    {
      "cell_type": "code",
      "execution_count": null,
      "metadata": {
        "id": "F5pUAIgZ7rrF",
        "outputId": "438ceb3c-beb9-4400-b88d-e451744e2bb3"
      },
      "outputs": [
        {
          "name": "stdout",
          "output_type": "stream",
          "text": [
            "apple\n",
            "mango\n",
            "orange\n",
            "banana\n",
            "pomegranate\n"
          ]
        }
      ],
      "source": [
        "#For loop\n",
        "fruits = [\"apple\", \"mango\", \"orange\", \"banana\", \"pomegranate\"]\n",
        "\n",
        "for x in fruits:\n",
        "    print(x)"
      ]
    },
    {
      "cell_type": "markdown",
      "metadata": {
        "id": "zI38Des47rrF"
      },
      "source": [
        "### Nested `for` Loops"
      ]
    },
    {
      "cell_type": "code",
      "execution_count": null,
      "metadata": {
        "id": "_tEiiULd7rrF",
        "outputId": "e42d6aeb-910d-4738-a194-33436de3bb67"
      },
      "outputs": [
        {
          "name": "stdout",
          "output_type": "stream",
          "text": [
            "tasty apple\n",
            "tasty mango\n",
            "tasty orange\n",
            "tasty banana\n",
            "tasty pomegranate\n",
            "juicy apple\n",
            "juicy mango\n",
            "juicy orange\n",
            "juicy banana\n",
            "juicy pomegranate\n",
            "fresh apple\n",
            "fresh mango\n",
            "fresh orange\n",
            "fresh banana\n",
            "fresh pomegranate\n"
          ]
        }
      ],
      "source": [
        "#Nested for loop\n",
        "fruits = [\"apple\", \"mango\", \"orange\", \"banana\", \"pomegranate\"]\n",
        "adjectives = [\"tasty\", \"juicy\", \"fresh\"]\n",
        "\n",
        "for y in adjectives:\n",
        "    for x in fruits:\n",
        "        print(y, x)"
      ]
    },
    {
      "cell_type": "markdown",
      "metadata": {
        "id": "aZY_kgGT7rrF"
      },
      "source": [
        "### `while` Loops"
      ]
    },
    {
      "cell_type": "code",
      "execution_count": null,
      "metadata": {
        "id": "_t3TQdC97rrF",
        "outputId": "7ecbddd1-be89-44ee-9345-b27428041c2b"
      },
      "outputs": [
        {
          "name": "stdout",
          "output_type": "stream",
          "text": [
            "Step: 1 The condition is satisfied\n",
            "Step: 2 The condition is satisfied\n",
            "Step: 3 The condition is satisfied\n",
            "Step: 4 The condition is satisfied\n",
            "Step: 5 The condition is satisfied\n",
            "Step: 6 The condition is satisfied\n",
            "Step: 7 The condition is satisfied\n",
            "Step: 8 The condition is satisfied\n",
            "Step: 9 The condition is satisfied\n"
          ]
        }
      ],
      "source": [
        "#While loop\n",
        "i = 1\n",
        "while i < 10:\n",
        "    print(\"Step: \" + str(i) + \" The condition is satisfied\")\n",
        "    i += 1"
      ]
    },
    {
      "cell_type": "markdown",
      "metadata": {
        "id": "VRDVz54t7rrG"
      },
      "source": [
        "## Complexity of common search algorithms\n",
        "\n",
        "### Linear search algorithm"
      ]
    },
    {
      "cell_type": "code",
      "execution_count": 11,
      "metadata": {
        "id": "sFNGQ_6r7rrG",
        "outputId": "8d4158f6-df5f-4479-b1d5-150af1a958da",
        "colab": {
          "base_uri": "https://localhost:8080/"
        }
      },
      "outputs": [
        {
          "output_type": "stream",
          "name": "stdout",
          "text": [
            "Please input a number of your choice: 1\n",
            "True \n",
            "False \n",
            "False \n",
            "False \n",
            "False \n",
            "False \n",
            "False \n",
            "False \n"
          ]
        }
      ],
      "source": [
        "def linear_search(input):\n",
        "    lists = [1, 2, 3, 4, 5, 6, 7, 8]\n",
        "    number = int(input)\n",
        "\n",
        "    for i in range(len(lists)):\n",
        "        if lists[i] == number:\n",
        "            print(\"True\", end=' ')\n",
        "\n",
        "        else:\n",
        "            print(\"False\", end=' ')\n",
        "\n",
        "        print()\n",
        "\n",
        "INPUT = input(\"Please input a number of your choice: \")\n",
        "linear_search(INPUT)"
      ]
    },
    {
      "cell_type": "markdown",
      "metadata": {
        "id": "hh-3gkDN7rrG"
      },
      "source": [
        "### Binary search algorithm"
      ]
    },
    {
      "cell_type": "code",
      "execution_count": null,
      "metadata": {
        "id": "FU0O3lUd7rrG",
        "outputId": "e9780d2a-04fd-4754-8032-eb6e3d9cb135"
      },
      "outputs": [
        {
          "name": "stdout",
          "output_type": "stream",
          "text": [
            "Target element is present at index 9 of the list\n"
          ]
        }
      ],
      "source": [
        "# Returns index of target (x) if present in the list\n",
        "def binary_search(list, l, r, target_value):\n",
        "    # Check base case\n",
        "    if r >= l:\n",
        "        mid_index = l + (r - l) // 2\n",
        "\n",
        "        # If target element matches with the mid-element of the list\n",
        "        if list[mid_index] == target_value:\n",
        "            return mid_index\n",
        "\n",
        "        # If element is smaller than mid-element, then it can only be present in the left sublist\n",
        "        elif list[mid_index] > target_value:\n",
        "            return binary_search(list, l, mid_index - 1, target_value)\n",
        "\n",
        "        # Else the element can only be present in the right sub-list\n",
        "        else:\n",
        "            return binary_search(list, mid_index + 1, r, target_value)\n",
        "\n",
        "    else:\n",
        "        # Element is not present in the array\n",
        "        return -1\n",
        "\n",
        "# Test list\n",
        "list = [10, 20, 30, 40, 50, 60, 70, 80, 90, 100]\n",
        "target_value = 100\n",
        "\n",
        "# Function call\n",
        "result = binary_search(list, 0, len(list) - 1, target_value)\n",
        "\n",
        "if result != -1:\n",
        "    print(\"Target element is present at index \" + str(result) + \" of the list\")\n",
        "\n",
        "else:\n",
        "    print(\"Target element is not present in list\")"
      ]
    }
  ],
  "metadata": {
    "kernelspec": {
      "display_name": "Python 3",
      "name": "python3"
    },
    "language_info": {
      "name": "python"
    },
    "colab": {
      "provenance": []
    }
  },
  "nbformat": 4,
  "nbformat_minor": 0
}