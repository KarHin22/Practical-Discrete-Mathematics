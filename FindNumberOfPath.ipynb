{
  "nbformat": 4,
  "nbformat_minor": 0,
  "metadata": {
    "colab": {
      "provenance": [],
      "authorship_tag": "ABX9TyOa6yJSrhGlzPqNEWH6e+So",
      "include_colab_link": true
    },
    "kernelspec": {
      "name": "python3",
      "display_name": "Python 3"
    },
    "language_info": {
      "name": "python"
    }
  },
  "cells": [
    {
      "cell_type": "markdown",
      "metadata": {
        "id": "view-in-github",
        "colab_type": "text"
      },
      "source": [
        "<a href=\"https://colab.research.google.com/github/KarHin22/Practical-Discrete-Mathematics/blob/master/FindNumberOfPath.ipynb\" target=\"_parent\"><img src=\"https://colab.research.google.com/assets/colab-badge.svg\" alt=\"Open In Colab\"/></a>"
      ]
    },
    {
      "cell_type": "code",
      "execution_count": 10,
      "metadata": {
        "id": "75coBGmDFZ7z",
        "colab": {
          "base_uri": "https://localhost:8080/"
        },
        "outputId": "63682608-a469-445c-c8de-5ceb60dc2970"
      },
      "outputs": [
        {
          "output_type": "stream",
          "name": "stdout",
          "text": [
            "A1 = [[0 1 1 0 1 0]\n",
            " [1 0 1 1 0 1]\n",
            " [1 1 0 1 1 0]\n",
            " [0 1 1 0 1 0]\n",
            " [1 0 1 1 0 0]\n",
            " [0 1 0 0 0 0]]\n",
            "\n",
            "A2 = [[0 1 0 0 0 0]\n",
            " [1 0 0 0 0 1]\n",
            " [0 0 0 1 1 0]\n",
            " [0 0 1 0 1 0]\n",
            " [0 0 1 1 0 0]\n",
            " [0 1 0 0 0 0]]\n",
            "\n",
            "W1 = [[0 4 1 0 2 0]\n",
            " [4 0 2 1 0 1]\n",
            " [1 2 0 1 1 0]\n",
            " [0 1 1 0 2 0]\n",
            " [2 0 1 2 0 0]\n",
            " [0 1 0 0 0 0]]\n",
            "\n",
            "W2 = [[0 0 2 0 0 0]\n",
            " [1 0 0 0 0 2]\n",
            " [0 0 0 0 2 0]\n",
            " [0 2 3 0 4 0]\n",
            " [3 0 1 1 0 0]\n",
            " [0 0 0 0 0 1]]\n",
            "\n",
            "\n",
            "There are 0 paths of length 1 from v1 to v6\n",
            "There are 1 paths of length 2 from v1 to v6\n",
            "There are 1 paths of length 3 from v1 to v6\n",
            "There are 9 paths of length 4 from v1 to v6\n",
            "There are 17 paths of length 5 from v1 to v6\n",
            "There are 84 paths of length 6 from v1 to v6\n",
            "\n",
            "\n",
            "There are 0 paths of length 1 from v1 to v6\n",
            "There are 1 paths of length 2 from v1 to v6\n",
            "There are 0 paths of length 3 from v1 to v6\n",
            "There are 2 paths of length 4 from v1 to v6\n",
            "There are 0 paths of length 5 from v1 to v6\n",
            "There are 4 paths of length 6 from v1 to v6\n",
            "\n",
            "\n",
            "There are 0 paths of length 1 from v1 to v6\n",
            "There are 4 paths of length 2 from v1 to v6\n",
            "There are 2 paths of length 3 from v1 to v6\n",
            "There are 117 paths of length 4 from v1 to v6\n",
            "There are 166 paths of length 5 from v1 to v6\n",
            "There are 3657 paths of length 6 from v1 to v6\n",
            "\n",
            "\n",
            "There are 0 paths of length 1 from v1 to v6\n",
            "There are 0 paths of length 2 from v1 to v6\n",
            "There are 0 paths of length 3 from v1 to v6\n",
            "There are 0 paths of length 4 from v1 to v6\n",
            "There are 16 paths of length 5 from v1 to v6\n",
            "There are 16 paths of length 6 from v1 to v6\n",
            "\n",
            "\n"
          ]
        }
      ],
      "source": [
        "import numpy\n",
        "\n",
        "# Create an adjacency matrix for the graph in Figure 8.1\n",
        "A1 = numpy.array([[0, 1, 1, 0, 1, 0], [1, 0, 1, 1, 0, 1],\n",
        "                 [1, 1, 0, 1, 1, 0], [0, 1, 1, 0, 1, 0],\n",
        "                 [1, 0, 1, 1, 0, 0], [0, 1, 0, 0, 0, 0]])\n",
        "\n",
        "# Create an adjacency matrix for the graph in Figure 8.8\n",
        "A2 = numpy.array([[0, 1, 0, 0, 0, 0], [1, 0, 0, 0, 0, 1],\n",
        "                 [0, 0, 0, 1, 1, 0], [0, 0, 1, 0, 1, 0],\n",
        "                 [0, 0, 1, 1, 0, 0], [0, 1, 0, 0, 0, 0]])\n",
        "\n",
        "# Create a weight matrix for the network in Figure 8.5\n",
        "W1 = numpy.array([[0, 4, 1, 0, 2, 0], [4, 0, 2, 1, 0, 1],\n",
        "                 [1, 2, 0, 1, 1, 0], [0, 1, 1, 0, 2, 0],\n",
        "                 [2, 0, 1, 2, 0, 0], [0, 1, 0, 0, 0, 0]])\n",
        "\n",
        "# Create a weight matrix for the directed network in Figure 8.7\n",
        "W2 = numpy.array([[0, 0, 2, 0, 0, 0], [1, 0, 0, 0, 0, 2],\n",
        "                 [0, 0, 0, 0, 2, 0], [0, 2, 3, 0, 4, 0],\n",
        "                 [3, 0, 1, 1, 0, 0], [0, 0, 0, 0, 0, 1]])\n",
        "\n",
        "# print the adjacency matrices\n",
        "print(\"A1 =\", A1)\n",
        "print(\"\\nA2 =\", A2)\n",
        "print(\"\\nW1 =\", W1)\n",
        "print(\"\\nW2 =\", W2)\n",
        "print(\"\\n\")\n",
        "\n",
        "for counter in range(1,7):\n",
        "    A1counter = numpy.linalg.matrix_power(A1,counter)\n",
        "    print(\"There are\", A1counter[0,5], \"paths of length\", counter, \"from v1 to v6\")\n",
        "print(\"\\n\")\n",
        "\n",
        "for counter in range(1,7):\n",
        "    A2counter = numpy.linalg.matrix_power(A2,counter)\n",
        "    print(\"There are\", A2counter[0,5], \"paths of length\", counter, \"from v1 to v6\")\n",
        "print(\"\\n\")\n",
        "\n",
        "for counter in range(1,7):\n",
        "    W1counter = numpy.linalg.matrix_power(W1,counter)\n",
        "    print(\"There are\", W1counter[0,5], \"paths of length\", counter, \"from v1 to v6\")\n",
        "print(\"\\n\")\n",
        "\n",
        "for counter in range(1,7):\n",
        "    W2counter = numpy.linalg.matrix_power(W2,counter)\n",
        "    print(\"There are\", W2counter[0,5], \"paths of length\", counter, \"from v1 to v6\")\n",
        "print(\"\\n\")"
      ]
    }
  ]
}