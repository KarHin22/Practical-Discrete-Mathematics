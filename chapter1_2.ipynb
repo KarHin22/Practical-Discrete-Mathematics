{
  "cells": [
    {
      "cell_type": "markdown",
      "metadata": {
        "id": "view-in-github",
        "colab_type": "text"
      },
      "source": [
        "<a href=\"https://colab.research.google.com/github/KarHin22/Practical-Discrete-Mathematics/blob/master/chapter1_2.ipynb\" target=\"_parent\"><img src=\"https://colab.research.google.com/assets/colab-badge.svg\" alt=\"Open In Colab\"/></a>"
      ]
    },
    {
      "cell_type": "markdown",
      "metadata": {
        "id": "HkkBgShcWvl2"
      },
      "source": [
        "# Chapter 1 - Introduction: Key Concepts, Notation, Set Theory, Relations, and Functions\n",
        "\n",
        "This notebook contains code accompanying Chapter 1 Introduction: Key Concepts, Notation, Set Theory, Relations, and Functions in *Practical Discrete Mathematics* by Ryan T. White and Archana Tikayat Ray\n",
        "\n",
        "## Functions and Relations\n",
        "\n",
        "### The `sort()` function"
      ]
    },
    {
      "cell_type": "code",
      "execution_count": null,
      "metadata": {
        "colab": {
          "base_uri": "https://localhost:8080/"
        },
        "id": "3E3Rdlz8Wvl7",
        "outputId": "7c8370f5-46d8-46fa-86c0-acdf8f65b0fb"
      },
      "outputs": [
        {
          "output_type": "stream",
          "name": "stdout",
          "text": [
            "[1, 2, 3, 4, 5, 8, 9, 12]\n",
            "['Brandon', 'Elise', 'Eugene', 'Kumar', 'Wyatt']\n"
          ]
        }
      ],
      "source": [
        "numbers = [3, 1, 4, 12, 8, 5, 2, 9]\n",
        "names = ['Wyatt', 'Brandon', 'Kumar', 'Eugene', 'Elise']\n",
        "\n",
        "# Apply the sort() function to the lists\n",
        "numbers.sort()\n",
        "names.sort()\n",
        "\n",
        "# Display the output\n",
        "print(numbers)\n",
        "print(names)"
      ]
    },
    {
      "cell_type": "markdown",
      "metadata": {
        "id": "cmcI44IjWvmD"
      },
      "source": [
        "### The `shuffle()` function"
      ]
    },
    {
      "cell_type": "code",
      "execution_count": null,
      "metadata": {
        "colab": {
          "base_uri": "https://localhost:8080/"
        },
        "id": "ka1UyLZ9WvmD",
        "outputId": "a8140747-cfc4-4e75-9e5f-8e2c6b6a5dab"
      },
      "outputs": [
        {
          "output_type": "stream",
          "name": "stdout",
          "text": [
            "[12, 2, 1, 5, 9, 3, 8, 4]\n",
            "[4, 2, 8, 3, 1, 12, 5, 9]\n",
            "[4, 5, 1, 9, 3, 8, 12, 2]\n",
            "[9, 12, 2, 8, 5, 3, 4, 1]\n",
            "[9, 8, 4, 3, 12, 1, 5, 2]\n"
          ]
        }
      ],
      "source": [
        "import random\n",
        "\n",
        "# Set a random seed so the code is reproducible\n",
        "random.seed(1)\n",
        "\n",
        "# Run the random.shuffle() function 5 times and display the outputs\n",
        "for i in range(0,5):\n",
        "    numbers = [3, 1, 4, 12, 8, 5, 2, 9]\n",
        "    random.shuffle(numbers)\n",
        "    print(numbers)"
      ]
    },
    {
      "cell_type": "markdown",
      "source": [
        "this code is about union\n",
        "\n"
      ],
      "metadata": {
        "id": "MHfIWEjpZgia"
      }
    },
    {
      "cell_type": "code",
      "source": [
        "# Creating two sets of numbers\n",
        "set1 = {1, 2, 3, 4, 5}\n",
        "set2 = {4, 5, 6, 7, 8}\n",
        "\n",
        "# Finding the union of the two sets\n",
        "union_set = set1.union(set2)\n",
        "\n",
        "# Printing the result\n",
        "print(\"Set 1:\", set1)\n",
        "print(\"Set 2:\", set2)\n",
        "print(\"Union of Set 1 and Set 2:\", union_set)\n"
      ],
      "metadata": {
        "colab": {
          "base_uri": "https://localhost:8080/"
        },
        "id": "ie9cMrMwY7AL",
        "outputId": "b89cd456-fc7f-4230-935c-88ff1147f0c0"
      },
      "execution_count": null,
      "outputs": [
        {
          "output_type": "stream",
          "name": "stdout",
          "text": [
            "Set 1: {1, 2, 3, 4, 5}\n",
            "Set 2: {4, 5, 6, 7, 8}\n",
            "Union of Set 1 and Set 2: {1, 2, 3, 4, 5, 6, 7, 8}\n"
          ]
        }
      ]
    },
    {
      "cell_type": "markdown",
      "source": [
        "# **Questions1: randomly create 2 set of number, find the common numbers in the 2 sets **"
      ],
      "metadata": {
        "id": "iEDO9lW_ZucZ"
      }
    },
    {
      "cell_type": "code",
      "source": [
        "z"
      ],
      "metadata": {
        "id": "ZevrsaUhaFGc"
      },
      "execution_count": null,
      "outputs": []
    },
    {
      "cell_type": "markdown",
      "source": [
        "# Question2: shuffle the character in your name. For example: Apple Chan. After shuffle: eplepa nhac\n"
      ],
      "metadata": {
        "id": "Urt3bPNvaHJ7"
      }
    },
    {
      "cell_type": "code",
      "source": [],
      "metadata": {
        "id": "7F5OwwBQaYOY"
      },
      "execution_count": null,
      "outputs": []
    },
    {
      "cell_type": "markdown",
      "source": [
        "# Question3:  extract a table from wikipedia https://en.wikipedia.org/wiki/Frieren"
      ],
      "metadata": {
        "id": "8DKfg4CwaYv5"
      }
    },
    {
      "cell_type": "markdown",
      "source": [
        "Question: Request user input of a simple proposition statement. Create a truth table."
      ],
      "metadata": {
        "id": "TCPwLDCNyV-s"
      }
    },
    {
      "cell_type": "code",
      "source": [
        "# prompt: Question: Request user input of a simple proposition statement. Create a truth table.\n",
        "\n",
        "def truth_table(proposition):\n",
        "    \"\"\"\n",
        "    Generates a truth table for a simple propositional statement.\n",
        "\n",
        "    Args:\n",
        "        proposition: A string representing the proposition, using 'p', 'q', etc.\n",
        "                     for variables and standard logical operators (^, v, ~, ->, <->).\n",
        "    \"\"\"\n",
        "\n",
        "    variables = set()\n",
        "    for char in proposition:\n",
        "        if 'p' <= char <= 'z':  # Assuming variables are lowercase letters\n",
        "            variables.add(char)\n",
        "\n",
        "    variables = sorted(list(variables))  # Sort variables for consistent order\n",
        "\n",
        "    num_variables = len(variables)\n",
        "    num_rows = 2**num_variables\n",
        "\n",
        "    print(\"Truth Table for:\", proposition)\n",
        "    header = \" | \".join(variables) + \" | \" + proposition\n",
        "    print(header)\n",
        "    print(\"-\" * len(header))\n",
        "\n",
        "    for i in range(num_rows):\n",
        "        row_values = []\n",
        "        binary_representation = bin(i)[2:].zfill(num_variables)\n",
        "        for bit in binary_representation:\n",
        "            row_values.append(True if bit == '1' else False)\n",
        "\n",
        "        # Evaluate the proposition based on the truth values\n",
        "        expression = proposition\n",
        "        for j, var in enumerate(variables):\n",
        "            expression = expression.replace(var, str(row_values[j]))\n",
        "\n",
        "        try:\n",
        "            result = eval(expression)\n",
        "            print(\" | \".join(map(str, row_values)) + \" | \" + str(result))\n",
        "        except (NameError, SyntaxError):\n",
        "          print(\"Invalid proposition. Please use valid variable names (p, q, etc.) and logical operators.\")\n",
        "          return\n",
        "\n",
        "# Get user input for the proposition\n",
        "user_input = input(\"Enter a simple proposition (e.g., p^q, ~p v q): \")\n",
        "\n",
        "# Generate and print the truth table\n",
        "truth_table(user_input)"
      ],
      "metadata": {
        "id": "L9OklcDkylq-",
        "outputId": "49ca1b90-969c-462f-d6fa-e5f5b4f484b4",
        "colab": {
          "base_uri": "https://localhost:8080/"
        }
      },
      "execution_count": 3,
      "outputs": [
        {
          "output_type": "stream",
          "name": "stdout",
          "text": [
            "Enter a simple proposition (e.g., p^q, ~p v q): p^q\n",
            "Truth Table for: p^q\n",
            "p | q | p^q\n",
            "-----------\n",
            "False | False | False\n",
            "False | True | True\n",
            "True | False | True\n",
            "True | True | False\n"
          ]
        }
      ]
    }
  ],
  "metadata": {
    "kernelspec": {
      "display_name": "Python 3",
      "name": "python3"
    },
    "language_info": {
      "name": "python"
    },
    "colab": {
      "provenance": [],
      "include_colab_link": true
    }
  },
  "nbformat": 4,
  "nbformat_minor": 0
}